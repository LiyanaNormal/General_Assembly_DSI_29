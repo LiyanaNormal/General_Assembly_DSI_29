{
 "cells": [
  {
   "cell_type": "markdown",
   "id": "0043848d-7b4a-4db5-8058-59d5b4154b74",
   "metadata": {},
   "source": [
    "<img src=\"http://imgur.com/1ZcRyrc.png\" style=\"float: left; margin: 20px; height: 55px\">\n",
    "\n",
    "# Project 3: Classification Model Analysis for Marvel vs DC reddit"
   ]
  },
  {
   "cell_type": "markdown",
   "id": "43060c48-9502-4dd0-8562-b01768af96b6",
   "metadata": {},
   "source": [
    "## Part 3 of 3: Hyperparameter tuning and feature engineering after model evaluation and sentiment analysis.\n",
    "---\n",
    "Part 1: Scrapping of the data from reddit into csv files\n",
    "\n",
    "Part 2: Data Cleaning and Exploring Data Analysis (EDA) of scrapped data\n",
    "\n",
    "Part 3: Hyperparameter tuning and feature engineering after model evaluation and sentiment analysis."
   ]
  },
  {
   "cell_type": "markdown",
   "id": "5500de01-161e-4011-b9b3-16b66fad5b46",
   "metadata": {},
   "source": [
    "---\n",
    "From this notebook we will address the following question to determine the best model.\n",
    "The best model is determined based on the following factors (in- order of priority):\n",
    "1. Interpretebility of the model (model which is able to indicate more insights)\n",
    "2. Accuracy (highest score)\n",
    "3. F-score (highest score)\n",
    "4. Overfiting / Underfiting of the model (difference between test and train score 5%)\n",
    "5. Computational time (reasonable computational time)\n",
    "\n",
    "The models evaluated in this codebook is logistic regression, multinomial naive bayes, k-nearest neighbours and random forest.\n",
    "\n",
    "Subsequently the following above points are used to address the above shall be used to determine:\n",
    "\n",
    "1. Tokenization method\n",
    "Both stemming and lemmatizing has the same corpus length. Hence, the score is determined by the f-score output for a logistic regression model and the higher score is selected in determining the next step of modelling\n",
    "\n",
    "2. Vectorization method\n",
    "Both Countvectorizer method and Tfdif Vectorizor method are evaluated to obtain the best model. The score is determined on the model and vector combination for all 4 models tested.\n",
    "\n",
    "3. Hyperparameter tuning \n",
    "A gridsearch is conducted on the set parameters for tdif vectorization and model parameters. The ouput of the model hyper parameter tuning is summarised in a data frame (ht). The best model will be selected according to the factors listed above.\n",
    "\n",
    "4. Model coefficient variable\n",
    "A plot of the ROC is plotted for the baseline model, selected model, and the competitive model. Subsequently, the top features of the model is plotted to evaluate on the model coeffecient.\n",
    "\n",
    "5. Sentiment Analysis on data\n",
    "Selection of sentiment analysis is conducted on two different sentiment model on Huggingface and the best model was selected for the final dataset. The best model will be selected to run the data for sentiment analysis and output is futher analysed using EDA."
   ]
  },
  {
   "cell_type": "markdown",
   "id": "f111c41b-a596-4549-9246-9d41fe210a07",
   "metadata": {},
   "source": [
    "# Define Libraries"
   ]
  },
  {
   "cell_type": "code",
   "execution_count": 35,
   "id": "29b7a479-36a3-4b83-9358-df8dab983374",
   "metadata": {},
   "outputs": [],
   "source": [
    "import requests\n",
    "import time\n",
    "import json\n",
    "import pandas as pd\n",
    "import datetime as dt\n",
    "import matplotlib.pyplot as plt\n",
    "import regex as re\n",
    "import numpy as np\n",
    "\n",
    "from nltk.corpus import stopwords\n",
    "from nltk.stem import WordNetLemmatizer\n",
    "from nltk.stem.porter import PorterStemmer\n",
    "from sklearn.model_selection import train_test_split, GridSearchCV, cross_val_score\n",
    "from sklearn.linear_model import LogisticRegression\n",
    "from sklearn.feature_extraction.text import CountVectorizer, TfidfVectorizer, HashingVectorizer\n",
    "from sklearn.neighbors import KNeighborsClassifier\n",
    "from tqdm.notebook import tqdm_notebook\n",
    "tqdm_notebook.pandas()\n",
    "\n",
    "from sklearn.pipeline import Pipeline\n",
    "from sklearn.linear_model import LogisticRegression\n",
    "from sklearn.metrics import confusion_matrix, ConfusionMatrixDisplay, classification_report, plot_roc_curve, roc_auc_score, accuracy_score, f1_score\n",
    "from sklearn.tree import DecisionTreeClassifier\n",
    "from sklearn.ensemble import RandomForestClassifier, ExtraTreesClassifier, GradientBoostingClassifier, AdaBoostClassifier, VotingClassifier\n",
    "from sklearn.naive_bayes import MultinomialNB\n",
    "from sklearn.svm import SVC\n",
    "\n",
    "# Sentiment Analysis\n",
    "from transformers import AutoTokenizer, AutoModelForSequenceClassification\n",
    "from transformers import pipeline\n",
    "#from datasets import list_datasets, load_dataset\n",
    "\n",
    "import seaborn as sns\n",
    "from pmaw import PushshiftAPI\n",
    "\n",
    "import warnings\n",
    "warnings.filterwarnings(\"ignore\")"
   ]
  },
  {
   "cell_type": "markdown",
   "id": "df33545f-94d7-4bd8-91c5-6a5affc61886",
   "metadata": {},
   "source": [
    "# Importing dataset"
   ]
  },
  {
   "cell_type": "code",
   "execution_count": 3,
   "id": "c6b23e41-0347-4d29-9393-a3214b939e8e",
   "metadata": {},
   "outputs": [
    {
     "name": "stdout",
     "output_type": "stream",
     "text": [
      "(20190, 5)\n",
      "<class 'pandas.core.frame.DataFrame'>\n",
      "RangeIndex: 20190 entries, 0 to 20189\n",
      "Data columns (total 4 columns):\n",
      " #   Column            Non-Null Count  Dtype \n",
      "---  ------            --------------  ----- \n",
      " 0   is_marvelstudios  20190 non-null  int64 \n",
      " 1   post              20190 non-null  object\n",
      " 2   post_clean_lemma  20096 non-null  object\n",
      " 3   post_clean_stem   20096 non-null  object\n",
      "dtypes: int64(1), object(3)\n",
      "memory usage: 631.1+ KB\n",
      "None\n"
     ]
    },
    {
     "data": {
      "text/html": [
       "<div>\n",
       "<style scoped>\n",
       "    .dataframe tbody tr th:only-of-type {\n",
       "        vertical-align: middle;\n",
       "    }\n",
       "\n",
       "    .dataframe tbody tr th {\n",
       "        vertical-align: top;\n",
       "    }\n",
       "\n",
       "    .dataframe thead th {\n",
       "        text-align: right;\n",
       "    }\n",
       "</style>\n",
       "<table border=\"1\" class=\"dataframe\">\n",
       "  <thead>\n",
       "    <tr style=\"text-align: right;\">\n",
       "      <th></th>\n",
       "      <th>is_marvelstudios</th>\n",
       "      <th>post</th>\n",
       "      <th>post_clean_lemma</th>\n",
       "      <th>post_clean_stem</th>\n",
       "    </tr>\n",
       "  </thead>\n",
       "  <tbody>\n",
       "    <tr>\n",
       "      <th>0</th>\n",
       "      <td>1</td>\n",
       "      <td>Unpopular Opinion: Who cares that the MCU is l...</td>\n",
       "      <td>unpopular opinion care mcu labeled really not ...</td>\n",
       "      <td>unpopular opinion care mcu label realli not bi...</td>\n",
       "    </tr>\n",
       "    <tr>\n",
       "      <th>1</th>\n",
       "      <td>1</td>\n",
       "      <td>What's your favorite MCU Content Youtube Chann...</td>\n",
       "      <td>favorite mcu content youtube channel breakdown...</td>\n",
       "      <td>favorit mcu content youtub channel breakdown e...</td>\n",
       "    </tr>\n",
       "    <tr>\n",
       "      <th>2</th>\n",
       "      <td>1</td>\n",
       "      <td>I'd rather rewatch Thor 1 than Thor Ragnarok S...</td>\n",
       "      <td>rather rewatch thor thor ragnarok month ago wa...</td>\n",
       "      <td>rather rewatch thor thor ragnarok month ago wa...</td>\n",
       "    </tr>\n",
       "    <tr>\n",
       "      <th>3</th>\n",
       "      <td>1</td>\n",
       "      <td>Venom is a Mimic Like, they both have the same...</td>\n",
       "      <td>venom mimic design alien kind disguise turn pe...</td>\n",
       "      <td>venom mimic design alien kind disguis turn peo...</td>\n",
       "    </tr>\n",
       "    <tr>\n",
       "      <th>4</th>\n",
       "      <td>1</td>\n",
       "      <td>Who do you guys think would win gwenpool or mi...</td>\n",
       "      <td>guy win gwenpool mile morale battling mcu endg...</td>\n",
       "      <td>guy win gwenpool mile moral battl mcu endgam f...</td>\n",
       "    </tr>\n",
       "  </tbody>\n",
       "</table>\n",
       "</div>"
      ],
      "text/plain": [
       "   is_marvelstudios                                               post  \\\n",
       "0                 1  Unpopular Opinion: Who cares that the MCU is l...   \n",
       "1                 1  What's your favorite MCU Content Youtube Chann...   \n",
       "2                 1  I'd rather rewatch Thor 1 than Thor Ragnarok S...   \n",
       "3                 1  Venom is a Mimic Like, they both have the same...   \n",
       "4                 1  Who do you guys think would win gwenpool or mi...   \n",
       "\n",
       "                                    post_clean_lemma  \\\n",
       "0  unpopular opinion care mcu labeled really not ...   \n",
       "1  favorite mcu content youtube channel breakdown...   \n",
       "2  rather rewatch thor thor ragnarok month ago wa...   \n",
       "3  venom mimic design alien kind disguise turn pe...   \n",
       "4  guy win gwenpool mile morale battling mcu endg...   \n",
       "\n",
       "                                     post_clean_stem  \n",
       "0  unpopular opinion care mcu label realli not bi...  \n",
       "1  favorit mcu content youtub channel breakdown e...  \n",
       "2  rather rewatch thor thor ragnarok month ago wa...  \n",
       "3  venom mimic design alien kind disguis turn peo...  \n",
       "4  guy win gwenpool mile moral battl mcu endgam f...  "
      ]
     },
     "execution_count": 3,
     "metadata": {},
     "output_type": "execute_result"
    }
   ],
   "source": [
    "df = pd.read_csv('./datasets/combined_clean.csv')\n",
    "print(df.shape)\n",
    "df.drop(labels = 'Unnamed: 0', axis=1, inplace =True)\n",
    "print(df.info())\n",
    "df.head()"
   ]
  },
  {
   "cell_type": "markdown",
   "id": "56baf524-7c9b-4b61-9413-cb6537fb6949",
   "metadata": {},
   "source": [
    "From this notebook the combined dataframe saved in the previous notebook including post from *r/marvelstudios* and *r/DC_Cinematic* subreddits are included in the "
   ]
  },
  {
   "cell_type": "markdown",
   "id": "681ea327-f012-457f-badf-e51cb056c59a",
   "metadata": {},
   "source": [
    "## Dropping of columns with blanks"
   ]
  },
  {
   "cell_type": "code",
   "execution_count": 4,
   "id": "5c0b2fd6-771f-4f81-9d03-aec9a70ffb8f",
   "metadata": {},
   "outputs": [
    {
     "data": {
      "text/plain": [
       "Int64Index([   66,   122,  2926,  3229,  3271,  3278,  3563,  4323,  4752,\n",
       "             5054,  5142,  5371,  6273,  6302,  7022,  7157,  7186,  7207,\n",
       "             7243,  7268,  7472,  7574,  7776,  7863,  8087,  8236,  8362,\n",
       "             8426,  8455,  8507,  8564,  8578,  8631,  8639,  8933,  9058,\n",
       "             9253,  9473,  9503,  9729,  9957, 10020, 10727, 10832, 10869,\n",
       "            10923, 10925, 10942, 11053, 11091, 11138, 11159, 11161, 11175,\n",
       "            11579, 11936, 12161, 12259, 12532, 12677, 12726, 12728, 12729,\n",
       "            12771, 12922, 13262, 13461, 13462, 13698, 14076, 14385, 14440,\n",
       "            14636, 14927, 15050, 15051, 15340, 15436, 15458, 15473, 16130,\n",
       "            16633, 16820, 16931, 16958, 16959, 17080, 17247, 17369, 17498,\n",
       "            17743, 18132, 18313, 18430],\n",
       "           dtype='int64')"
      ]
     },
     "execution_count": 4,
     "metadata": {},
     "output_type": "execute_result"
    }
   ],
   "source": [
    "# (df['post_clean_lemma']==np.nan).\n",
    "\n",
    "df.loc[df['post_clean_lemma'].isnull()].index"
   ]
  },
  {
   "cell_type": "code",
   "execution_count": 5,
   "id": "b77a73ca-a0e8-48ef-87fb-729be45dc18c",
   "metadata": {},
   "outputs": [
    {
     "data": {
      "text/plain": [
       "(20096, 4)"
      ]
     },
     "execution_count": 5,
     "metadata": {},
     "output_type": "execute_result"
    }
   ],
   "source": [
    "df.drop(index = df.loc[df['post_clean_lemma'].isnull()].index, inplace = True)\n",
    "df.shape"
   ]
  },
  {
   "cell_type": "markdown",
   "id": "d9f69794-7450-4021-9165-f6edb75c0686",
   "metadata": {},
   "source": [
    "The non-latin characters are regarded to be outliers as it would not aid in creating an accurate model. Since both DC and marvel subreddit has a 5% and 4% of such outliers (indicated in codebook part 2), it is not significant and removed prior to modelling."
   ]
  },
  {
   "cell_type": "markdown",
   "id": "c98fd5fc-15db-4b9b-85d7-fec6db75545f",
   "metadata": {},
   "source": [
    "# Building Baseline Model"
   ]
  },
  {
   "cell_type": "code",
   "execution_count": 6,
   "id": "2d2cb9cf-87cd-48f5-a7a3-7a1dda8509ad",
   "metadata": {},
   "outputs": [
    {
     "data": {
      "text/plain": [
       "1    0.500149\n",
       "0    0.499851\n",
       "Name: is_marvelstudios, dtype: float64"
      ]
     },
     "execution_count": 6,
     "metadata": {},
     "output_type": "execute_result"
    }
   ],
   "source": [
    "# Checking on the target variable\n",
    "y = df['is_marvelstudios']\n",
    "score = y.value_counts(normalize=True)\n",
    "score"
   ]
  },
  {
   "cell_type": "markdown",
   "id": "20b6aa7a-9f1a-4598-9b08-577b38e26533",
   "metadata": {},
   "source": [
    "The baseline is taken to have a 50:50 split using the normalized split. An approximately equal amount of data from both subreddits was combined in the new dataframe. "
   ]
  },
  {
   "cell_type": "markdown",
   "id": "1dbce8e3-db5c-43a6-8c8e-96db978266a4",
   "metadata": {},
   "source": [
    "# Creation of the test-train data"
   ]
  },
  {
   "cell_type": "code",
   "execution_count": 7,
   "id": "6c9627d9-26b2-456d-bad0-53cd08589736",
   "metadata": {},
   "outputs": [
    {
     "data": {
      "text/plain": [
       "((20096,), (20096,), (20096,), (20096,))"
      ]
     },
     "execution_count": 7,
     "metadata": {},
     "output_type": "execute_result"
    }
   ],
   "source": [
    "# Creating hold-up data\n",
    "X = df['post']\n",
    "X1 = df['post_clean_lemma']\n",
    "X2 = df['post_clean_stem']\n",
    "y = df['is_marvelstudios']\n",
    "X.shape,X1.shape, X2.shape, y.shape"
   ]
  },
  {
   "cell_type": "code",
   "execution_count": 8,
   "id": "947cd67c-38c0-4da3-85da-8b1ac46e094d",
   "metadata": {},
   "outputs": [
    {
     "name": "stdout",
     "output_type": "stream",
     "text": [
      "(16076,) (4020,) (16076,) (4020,)\n",
      "(16076,) (4020,) (16076,) (4020,)\n",
      "(16076,) (4020,) (16076,) (4020,)\n"
     ]
    }
   ],
   "source": [
    "# Creation of train_test (post)\n",
    "X_train, X_test, y_train, y_test = train_test_split(X, y, test_size=0.2, stratify=y, random_state=42)\n",
    "print(X_train.shape, X_test.shape, y_train.shape, y_test.shape)\n",
    "\n",
    "# Creation of train-test data (post_clean_lemma)\n",
    "X1_train, X1_test, y1_train, y1_test = train_test_split(X1, y, test_size=0.2, stratify=y, random_state=42)\n",
    "print(X1_train.shape, X1_test.shape, y1_train.shape, y1_test.shape)\n",
    "\n",
    "# Creation of train-test data (post_clean_stem)\n",
    "X2_train, X2_test, y2_train, y2_test = train_test_split(X2, y, test_size=0.2, stratify=y, random_state=42)\n",
    "print(X2_train.shape, X2_test.shape, y2_train.shape, y2_test.shape)"
   ]
  },
  {
   "cell_type": "code",
   "execution_count": 9,
   "id": "4f84af0b-ba89-44f5-a55c-e63191c3d7de",
   "metadata": {
    "tags": []
   },
   "outputs": [],
   "source": [
    "# Instantiate vectorizers\n",
    "vectorizers = {'cvec': CountVectorizer(stop_words = 'english'),\n",
    "               'tvec': TfidfVectorizer(stop_words = 'english')}"
   ]
  },
  {
   "cell_type": "code",
   "execution_count": 10,
   "id": "fca43386-7e48-4425-aeb4-d6acf0d203ee",
   "metadata": {},
   "outputs": [],
   "source": [
    "# Instiantiate models\n",
    "models = {'lr': LogisticRegression(max_iter = 1_000, random_state = 42),\n",
    "          'rf': RandomForestClassifier(random_state = 42),\n",
    "          'knn': KNeighborsClassifier(),\n",
    "          'nb': MultinomialNB(),\n",
    "          'svc': SVC(random_state = 42)\n",
    "         }"
   ]
  },
  {
   "cell_type": "markdown",
   "id": "d42101b4-f5a3-458e-9a3b-4b3ead37f12d",
   "metadata": {},
   "source": [
    "## Model Selection and Selection of tokenizer and vectorization method"
   ]
  },
  {
   "cell_type": "code",
   "execution_count": 132,
   "id": "b1792852-33c4-48d4-8203-e5dbb125cb30",
   "metadata": {},
   "outputs": [],
   "source": [
    "# Function to run model -- input vectorizer and model\n",
    "def run_model(vec, mod, X_train, y_train, X_test,vec_params={}, mod_params={}, grid_search=False):\n",
    "    \n",
    "    results = {}\n",
    "    start_time = time.time()\n",
    "    pipe = Pipeline([\n",
    "            (vec, vectorizers[vec]),\n",
    "            (mod, models[mod])\n",
    "            ])\n",
    "    \n",
    "    if grid_search:\n",
    "        gs = GridSearchCV(pipe, param_grid = {**vec_params, **mod_params}, cv=5, verbose=1, n_jobs=-1)\n",
    "        gs.fit(X_train, y_train)\n",
    "        pipe = gs\n",
    "        \n",
    "    else:\n",
    "        pipe.fit(X_train, y_train)\n",
    "    \n",
    "    # Results from model to be input into a dataframe, mod_results\n",
    "    results['model'] = mod\n",
    "    results['vectorizer'] = vec\n",
    "    results['train'] = pipe.score(X_train, y_train)\n",
    "    results['test'] = pipe.score(X_test, y_test)\n",
    "    results['% diff'] = (pipe.score(X_train, y_train) - pipe.score(X_test, y_test)) # checking for overfit (less than 5% difference)\n",
    "    results['computational time (s)'] = (time.time() - start_time)\n",
    "    predictions = pipe.predict(X_test)\n",
    "    results['roc'] = roc_auc_score(y_test, predictions)\n",
    "    results['f_score'] = f1_score(y_test, predictions)\n",
    "    results['accuracy'] = accuracy_score(y_test, predictions)\n",
    "    \n",
    "    if grid_search:\n",
    "        ht.append(results) #Results from model with optimised parameters to be input into a dataframe, ht\n",
    "        print('### BEST PARAMS ###')\n",
    "        display(pipe.best_params_)\n",
    "        \n",
    "    else:\n",
    "        mod_results.append(results)\n",
    "    \n",
    "    print('### MODEL METRICS ###')\n",
    "    display(results)\n",
    "    \n",
    "    cm = confusion_matrix(y_test, predictions)\n",
    "    disp = ConfusionMatrixDisplay(confusion_matrix=cm)\n",
    "    disp.plot();\n",
    "    \n",
    "    return pipe"
   ]
  },
  {
   "cell_type": "code",
   "execution_count": 10,
   "id": "80338ef3-ae5b-4cdf-b81e-d67baab0847b",
   "metadata": {},
   "outputs": [],
   "source": [
    "mod_results = []"
   ]
  },
  {
   "cell_type": "markdown",
   "id": "97404912-06a9-4c56-9632-cffd8d461c1a",
   "metadata": {
    "tags": []
   },
   "source": [
    "## Selection of Tokenization method"
   ]
  },
  {
   "cell_type": "code",
   "execution_count": 112,
   "id": "12cc7628-cb77-4bf5-a338-3071dd266706",
   "metadata": {},
   "outputs": [
    {
     "name": "stdout",
     "output_type": "stream",
     "text": [
      "### MODEL METRICS ###\n"
     ]
    },
    {
     "data": {
      "text/plain": [
       "{'model': 'lr',\n",
       " 'vectorizer': 'cvec',\n",
       " 'train': 0.976922119930331,\n",
       " 'test': 0.91318407960199,\n",
       " '% diff': 0.06373804032834096,\n",
       " 'computational time (s)': 4.328885793685913,\n",
       " 'roc': 0.9131797265364041,\n",
       " 'f_score': 0.9139758442198669,\n",
       " 'accuracy': 0.91318407960199}"
      ]
     },
     "metadata": {},
     "output_type": "display_data"
    },
    {
     "data": {
      "image/png": "[encoded data removed]",
      "text/plain": [
       "<Figure size 432x288 with 2 Axes>"
      ]
     },
     "metadata": {
      "needs_background": "light"
     },
     "output_type": "display_data"
    }
   ],
   "source": [
    "# Logistic Regression with CountVectorizer on stemming \n",
    "lr_stem = run_model('cvec', 'lr', X2_train, y2_train, X2_test)"
   ]
  },
  {
   "cell_type": "code",
   "execution_count": 113,
   "id": "ab81c912-a087-4f0e-9a33-fa3839ee207d",
   "metadata": {},
   "outputs": [],
   "source": [
    "# Reset of the dataframe for the results\n",
    "mod_results = []"
   ]
  },
  {
   "cell_type": "code",
   "execution_count": 114,
   "id": "1ea5c1a2-6593-489d-a876-0e6336eaaef7",
   "metadata": {},
   "outputs": [
    {
     "name": "stdout",
     "output_type": "stream",
     "text": [
      "### MODEL METRICS ###\n"
     ]
    },
    {
     "data": {
      "text/plain": [
       "{'model': 'lr',\n",
       " 'vectorizer': 'cvec',\n",
       " 'train': 0.980529982582732,\n",
       " 'test': 0.9146766169154229,\n",
       " '% diff': 0.06585336566730915,\n",
       " 'computational time (s)': 4.381173133850098,\n",
       " 'roc': 0.9146707791071456,\n",
       " 'f_score': 0.9157041042025068,\n",
       " 'accuracy': 0.9146766169154229}"
      ]
     },
     "metadata": {},
     "output_type": "display_data"
    },
    {
     "data": {
      "image/png": "[encoded data removed]",
      "text/plain": [
       "<Figure size 432x288 with 2 Axes>"
      ]
     },
     "metadata": {
      "needs_background": "light"
     },
     "output_type": "display_data"
    }
   ],
   "source": [
    "# Logistic Regression with CountVectorizer on lemmatizing\n",
    "lr_lemm = run_model('cvec', 'lr', X1_train, y1_train, X1_test)"
   ]
  },
  {
   "cell_type": "markdown",
   "id": "059dba19-a618-4d78-bd42-44323ad08abe",
   "metadata": {},
   "source": [
    "From the above the parameters, the score for the lemmatizing **(f-score=0.915)** is higher than the score for stemming **(f-score=0.913)**. Hence, the lemmatization is the best tokenizing method. The mod_results is resetted to remove the stemming tokenization method from model output."
   ]
  },
  {
   "cell_type": "markdown",
   "id": "cf6be6ef-4730-4a3e-8e5f-50a9a1410f2f",
   "metadata": {
    "tags": []
   },
   "source": [
    "# Selection of Vectorization Method"
   ]
  },
  {
   "cell_type": "code",
   "execution_count": 115,
   "id": "18cf49ea-cded-48f4-91cd-f1319fba1f5b",
   "metadata": {},
   "outputs": [
    {
     "name": "stdout",
     "output_type": "stream",
     "text": [
      "### MODEL METRICS ###\n"
     ]
    },
    {
     "data": {
      "text/plain": [
       "{'model': 'lr',\n",
       " 'vectorizer': 'tvec',\n",
       " 'train': 0.9669693953719831,\n",
       " 'test': 0.9213930348258706,\n",
       " '% diff': 0.04557636054611247,\n",
       " 'computational time (s)': 4.419919729232788,\n",
       " 'roc': 0.9213902926636204,\n",
       " 'f_score': 0.9218595450049456,\n",
       " 'accuracy': 0.9213930348258706}"
      ]
     },
     "metadata": {},
     "output_type": "display_data"
    },
    {
     "data": {
      "image/png": "[encoded data removed]",
      "text/plain": [
       "<Figure size 432x288 with 2 Axes>"
      ]
     },
     "metadata": {
      "needs_background": "light"
     },
     "output_type": "display_data"
    }
   ],
   "source": [
    "# Logistic Regression with Tfidf on lemmatizing\n",
    "lr_t_lemma = run_model('tvec', 'lr', X1_train, y1_train, X1_test)"
   ]
  },
  {
   "cell_type": "markdown",
   "id": "3e29e2a6-b042-43b6-a669-e4670566b807",
   "metadata": {
    "tags": []
   },
   "source": [
    "## Score for the random forest"
   ]
  },
  {
   "cell_type": "code",
   "execution_count": 116,
   "id": "06e50b0b-94a1-4e4c-b3f3-51f3b4784b61",
   "metadata": {},
   "outputs": [
    {
     "name": "stdout",
     "output_type": "stream",
     "text": [
      "### MODEL METRICS ###\n"
     ]
    },
    {
     "data": {
      "text/plain": [
       "{'model': 'rf',\n",
       " 'vectorizer': 'tvec',\n",
       " 'train': 0.9948992286638467,\n",
       " 'test': 0.9099502487562189,\n",
       " '% diff': 0.08494897990762784,\n",
       " 'computational time (s)': 56.09320640563965,\n",
       " 'roc': 0.9099450285747949,\n",
       " 'f_score': 0.9109251968503937,\n",
       " 'accuracy': 0.9099502487562189}"
      ]
     },
     "metadata": {},
     "output_type": "display_data"
    },
    {
     "data": {
      "image/png": "[encoded data removed]",
      "text/plain": [
       "<Figure size 432x288 with 2 Axes>"
      ]
     },
     "metadata": {
      "needs_background": "light"
     },
     "output_type": "display_data"
    }
   ],
   "source": [
    "# Random Forest model with Tfdif Vectorizer on lemmatizing\n",
    "rf_t_lemma = run_model('tvec', 'rf', X2_train, y2_train, X2_test)"
   ]
  },
  {
   "cell_type": "code",
   "execution_count": 117,
   "id": "b46568b8-97ab-4800-913b-5daf27aa908e",
   "metadata": {},
   "outputs": [
    {
     "name": "stdout",
     "output_type": "stream",
     "text": [
      "### MODEL METRICS ###\n"
     ]
    },
    {
     "data": {
      "text/plain": [
       "{'model': 'rf',\n",
       " 'vectorizer': 'cvec',\n",
       " 'train': 0.9952724558347847,\n",
       " 'test': 0.9069651741293532,\n",
       " '% diff': 0.08830728170543156,\n",
       " 'computational time (s)': 63.302701473236084,\n",
       " 'roc': 0.9069606957651285,\n",
       " 'f_score': 0.9078363725973385,\n",
       " 'accuracy': 0.9069651741293532}"
      ]
     },
     "metadata": {},
     "output_type": "display_data"
    },
    {
     "data": {
      "image/png": "[encoded data removed]",
      "text/plain": [
       "<Figure size 432x288 with 2 Axes>"
      ]
     },
     "metadata": {
      "needs_background": "light"
     },
     "output_type": "display_data"
    }
   ],
   "source": [
    "# Random Forest model with CountVectorizer on lemmatizing\n",
    "rf_c_lemma = run_model('cvec', 'rf', X1_train, y1_train, X1_test)"
   ]
  },
  {
   "cell_type": "markdown",
   "id": "91e647b4-8818-4535-a56e-3e10f1c2b145",
   "metadata": {},
   "source": [
    "## Score for multi-nominal Naive Bayes"
   ]
  },
  {
   "cell_type": "code",
   "execution_count": 118,
   "id": "9ac12bab-e5cf-4e9d-93fe-bfe346f07201",
   "metadata": {},
   "outputs": [
    {
     "name": "stdout",
     "output_type": "stream",
     "text": [
      "### MODEL METRICS ###\n"
     ]
    },
    {
     "data": {
      "text/plain": [
       "{'model': 'nb',\n",
       " 'vectorizer': 'tvec',\n",
       " 'train': 0.9527245583478477,\n",
       " 'test': 0.9154228855721394,\n",
       " '% diff': 0.037301672775708394,\n",
       " 'computational time (s)': 4.016489744186401,\n",
       " 'roc': 0.9154129638902413,\n",
       " 'f_score': 0.9171136031204291,\n",
       " 'accuracy': 0.9154228855721394}"
      ]
     },
     "metadata": {},
     "output_type": "display_data"
    },
    {
     "data": {
      "image/png": "[encoded data removed]",
      "text/plain": [
       "<Figure size 432x288 with 2 Axes>"
      ]
     },
     "metadata": {
      "needs_background": "light"
     },
     "output_type": "display_data"
    }
   ],
   "source": [
    "# Naive Bayes with TfdifVectorizer on lemmatizing\n",
    "nb_t_lemma = run_model('tvec', 'nb', X1_train, y1_train, X1_test)"
   ]
  },
  {
   "cell_type": "code",
   "execution_count": 119,
   "id": "d4ae82a2-d0f2-4631-bb2f-973dc068ce7d",
   "metadata": {},
   "outputs": [
    {
     "name": "stdout",
     "output_type": "stream",
     "text": [
      "### MODEL METRICS ###\n"
     ]
    },
    {
     "data": {
      "text/plain": [
       "{'model': 'nb',\n",
       " 'vectorizer': 'cvec',\n",
       " 'train': 0.9464419009703906,\n",
       " 'test': 0.9203980099502488,\n",
       " '% diff': 0.02604389102014182,\n",
       " 'computational time (s)': 3.7279438972473145,\n",
       " 'roc': 0.9203905646866574,\n",
       " 'f_score': 0.9216070553650171,\n",
       " 'accuracy': 0.9203980099502488}"
      ]
     },
     "metadata": {},
     "output_type": "display_data"
    },
    {
     "data": {
      "image/png": "[encoded data removed]",
      "text/plain": [
       "<Figure size 432x288 with 2 Axes>"
      ]
     },
     "metadata": {
      "needs_background": "light"
     },
     "output_type": "display_data"
    }
   ],
   "source": [
    "# Naive Bayes with CountVectorizer on lemmatizing\n",
    "nb_c_lemma = run_model('cvec', 'nb', X1_train, y1_train, X1_test)"
   ]
  },
  {
   "cell_type": "markdown",
   "id": "a8929d0d-615f-4c50-834a-cc375cea4bec",
   "metadata": {},
   "source": [
    "## Score for the k-nearest neighbour"
   ]
  },
  {
   "cell_type": "code",
   "execution_count": 120,
   "id": "b23995e3-3fc9-485c-a9de-96d796f5f912",
   "metadata": {},
   "outputs": [
    {
     "name": "stdout",
     "output_type": "stream",
     "text": [
      "### MODEL METRICS ###\n"
     ]
    },
    {
     "data": {
      "text/plain": [
       "{'model': 'knn',\n",
       " 'vectorizer': 'tvec',\n",
       " 'train': 0.7886912167205773,\n",
       " 'test': 0.6320895522388059,\n",
       " '% diff': 0.15660166448177137,\n",
       " 'computational time (s)': 43.037392139434814,\n",
       " 'roc': 0.632068793363727,\n",
       " 'f_score': 0.6469324421102889,\n",
       " 'accuracy': 0.6320895522388059}"
      ]
     },
     "metadata": {},
     "output_type": "display_data"
    },
    {
     "data": {
      "image/png": "[encoded data removed]",
      "text/plain": [
       "<Figure size 432x288 with 2 Axes>"
      ]
     },
     "metadata": {
      "needs_background": "light"
     },
     "output_type": "display_data"
    }
   ],
   "source": [
    "# KNN model with Tfdif Vectorizer on lemmatizing\n",
    "nb_t_lemma = run_model('tvec', 'knn', X1_train, y1_train, X1_test)"
   ]
  },
  {
   "cell_type": "code",
   "execution_count": 121,
   "id": "8b37c939-851d-4604-824d-5d750fe5e514",
   "metadata": {},
   "outputs": [
    {
     "name": "stdout",
     "output_type": "stream",
     "text": [
      "### MODEL METRICS ###\n"
     ]
    },
    {
     "data": {
      "text/plain": [
       "{'model': 'knn',\n",
       " 'vectorizer': 'cvec',\n",
       " 'train': 0.8910798706145807,\n",
       " 'test': 0.8343283582089552,\n",
       " '% diff': 0.05675151240562548,\n",
       " 'computational time (s)': 48.16196131706238,\n",
       " 'roc': 0.8343109908940349,\n",
       " 'f_score': 0.8399807784718885,\n",
       " 'accuracy': 0.8343283582089552}"
      ]
     },
     "metadata": {},
     "output_type": "display_data"
    },
    {
     "data": {
      "image/png": "[encoded data removed]",
      "text/plain": [
       "<Figure size 432x288 with 2 Axes>"
      ]
     },
     "metadata": {
      "needs_background": "light"
     },
     "output_type": "display_data"
    }
   ],
   "source": [
    "# KNN model with CountVectorizer on lemmatizing\n",
    "nb_t_lemma = run_model('cvec', 'knn', X1_train, y1_train, X1_test)"
   ]
  },
  {
   "cell_type": "code",
   "execution_count": 122,
   "id": "480347e4-6786-4063-bbfe-3059f8b213a5",
   "metadata": {},
   "outputs": [
    {
     "data": {
      "text/html": [
       "<div>\n",
       "<style scoped>\n",
       "    .dataframe tbody tr th:only-of-type {\n",
       "        vertical-align: middle;\n",
       "    }\n",
       "\n",
       "    .dataframe tbody tr th {\n",
       "        vertical-align: top;\n",
       "    }\n",
       "\n",
       "    .dataframe thead th {\n",
       "        text-align: right;\n",
       "    }\n",
       "</style>\n",
       "<table border=\"1\" class=\"dataframe\">\n",
       "  <thead>\n",
       "    <tr style=\"text-align: right;\">\n",
       "      <th></th>\n",
       "      <th>model</th>\n",
       "      <th>vectorizer</th>\n",
       "      <th>train</th>\n",
       "      <th>test</th>\n",
       "      <th>% diff</th>\n",
       "      <th>computational time (s)</th>\n",
       "      <th>roc</th>\n",
       "      <th>f_score</th>\n",
       "      <th>accuracy</th>\n",
       "    </tr>\n",
       "  </thead>\n",
       "  <tbody>\n",
       "    <tr>\n",
       "      <th>0</th>\n",
       "      <td>lr</td>\n",
       "      <td>tvec</td>\n",
       "      <td>0.966969</td>\n",
       "      <td>0.921393</td>\n",
       "      <td>0.045576</td>\n",
       "      <td>4.419920</td>\n",
       "      <td>0.921390</td>\n",
       "      <td>0.921860</td>\n",
       "      <td>0.921393</td>\n",
       "    </tr>\n",
       "    <tr>\n",
       "      <th>1</th>\n",
       "      <td>nb</td>\n",
       "      <td>cvec</td>\n",
       "      <td>0.946442</td>\n",
       "      <td>0.920398</td>\n",
       "      <td>0.026044</td>\n",
       "      <td>3.727944</td>\n",
       "      <td>0.920391</td>\n",
       "      <td>0.921607</td>\n",
       "      <td>0.920398</td>\n",
       "    </tr>\n",
       "    <tr>\n",
       "      <th>2</th>\n",
       "      <td>nb</td>\n",
       "      <td>tvec</td>\n",
       "      <td>0.952725</td>\n",
       "      <td>0.915423</td>\n",
       "      <td>0.037302</td>\n",
       "      <td>4.016490</td>\n",
       "      <td>0.915413</td>\n",
       "      <td>0.917114</td>\n",
       "      <td>0.915423</td>\n",
       "    </tr>\n",
       "    <tr>\n",
       "      <th>3</th>\n",
       "      <td>lr</td>\n",
       "      <td>cvec</td>\n",
       "      <td>0.980530</td>\n",
       "      <td>0.914677</td>\n",
       "      <td>0.065853</td>\n",
       "      <td>4.381173</td>\n",
       "      <td>0.914671</td>\n",
       "      <td>0.915704</td>\n",
       "      <td>0.914677</td>\n",
       "    </tr>\n",
       "    <tr>\n",
       "      <th>4</th>\n",
       "      <td>rf</td>\n",
       "      <td>tvec</td>\n",
       "      <td>0.994899</td>\n",
       "      <td>0.909950</td>\n",
       "      <td>0.084949</td>\n",
       "      <td>56.093206</td>\n",
       "      <td>0.909945</td>\n",
       "      <td>0.910925</td>\n",
       "      <td>0.909950</td>\n",
       "    </tr>\n",
       "    <tr>\n",
       "      <th>5</th>\n",
       "      <td>rf</td>\n",
       "      <td>cvec</td>\n",
       "      <td>0.995272</td>\n",
       "      <td>0.906965</td>\n",
       "      <td>0.088307</td>\n",
       "      <td>63.302701</td>\n",
       "      <td>0.906961</td>\n",
       "      <td>0.907836</td>\n",
       "      <td>0.906965</td>\n",
       "    </tr>\n",
       "    <tr>\n",
       "      <th>6</th>\n",
       "      <td>knn</td>\n",
       "      <td>cvec</td>\n",
       "      <td>0.891080</td>\n",
       "      <td>0.834328</td>\n",
       "      <td>0.056752</td>\n",
       "      <td>48.161961</td>\n",
       "      <td>0.834311</td>\n",
       "      <td>0.839981</td>\n",
       "      <td>0.834328</td>\n",
       "    </tr>\n",
       "    <tr>\n",
       "      <th>7</th>\n",
       "      <td>knn</td>\n",
       "      <td>tvec</td>\n",
       "      <td>0.788691</td>\n",
       "      <td>0.632090</td>\n",
       "      <td>0.156602</td>\n",
       "      <td>43.037392</td>\n",
       "      <td>0.632069</td>\n",
       "      <td>0.646932</td>\n",
       "      <td>0.632090</td>\n",
       "    </tr>\n",
       "  </tbody>\n",
       "</table>\n",
       "</div>"
      ],
      "text/plain": [
       "  model vectorizer     train      test    % diff  computational time (s)  \\\n",
       "0    lr       tvec  0.966969  0.921393  0.045576                4.419920   \n",
       "1    nb       cvec  0.946442  0.920398  0.026044                3.727944   \n",
       "2    nb       tvec  0.952725  0.915423  0.037302                4.016490   \n",
       "3    lr       cvec  0.980530  0.914677  0.065853                4.381173   \n",
       "4    rf       tvec  0.994899  0.909950  0.084949               56.093206   \n",
       "5    rf       cvec  0.995272  0.906965  0.088307               63.302701   \n",
       "6   knn       cvec  0.891080  0.834328  0.056752               48.161961   \n",
       "7   knn       tvec  0.788691  0.632090  0.156602               43.037392   \n",
       "\n",
       "        roc   f_score  accuracy  \n",
       "0  0.921390  0.921860  0.921393  \n",
       "1  0.920391  0.921607  0.920398  \n",
       "2  0.915413  0.917114  0.915423  \n",
       "3  0.914671  0.915704  0.914677  \n",
       "4  0.909945  0.910925  0.909950  \n",
       "5  0.906961  0.907836  0.906965  \n",
       "6  0.834311  0.839981  0.834328  \n",
       "7  0.632069  0.646932  0.632090  "
      ]
     },
     "execution_count": 122,
     "metadata": {},
     "output_type": "execute_result"
    }
   ],
   "source": [
    "model_df = pd.DataFrame(mod_results)\n",
    "model_df.sort_values(by='accuracy',ascending= False).reset_index(drop=True).head(10)"
   ]
  },
  {
   "cell_type": "markdown",
   "id": "30c23680-ae47-410c-a98e-0ea7130dbf90",
   "metadata": {},
   "source": [
    "From the above vectorization method, the Tfidf Vectorizer has a higher score **(f-score=0.921)** than countvectorizer **(f_score=0.9146)** on the logistic regression. Hence, the Tfidf method is selected. \n",
    "The top 2 models selected is between the logistic regression and the multinomial Naive Bayes. \n",
    "\n",
    "**Assumptions for Multinomial Naive Bayes**\n",
    "1. Assumption of independence between words (class conditional independance)\n",
    "2. Determining feature importance requires the use of predicted probabilities\n",
    "\n",
    "**Assumptions for Logistic Regression**\n",
    "1. Response is binary \n",
    "2. No extreme outliers"
   ]
  },
  {
   "cell_type": "markdown",
   "id": "f23f243f-da7f-45aa-ac18-88982c5d1aae",
   "metadata": {},
   "source": [
    "From the above assumptions, logistic regression is prefered due to the above assumptions and the high interpretability of the model. Thus, the tvec is the selected vectorizer as it produces the highest result for logistic regression and the tvec vectorizer is selected for the gridsearch."
   ]
  },
  {
   "cell_type": "markdown",
   "id": "276c863e-b503-48c0-994c-f3c3f281e181",
   "metadata": {},
   "source": [
    "# Hyper-parameter Tuning "
   ]
  },
  {
   "cell_type": "markdown",
   "id": "2b793a1f-9fef-49fb-8234-6bf00a679e79",
   "metadata": {},
   "source": [
    "### Best parameters for the logistic regression, naive bayes, random forest and k-nearest neighbours"
   ]
  },
  {
   "cell_type": "code",
   "execution_count": 18,
   "id": "dc7660b2-6464-4474-bc17-3551598e1e7e",
   "metadata": {},
   "outputs": [],
   "source": [
    "# Instantiate tuning list\n",
    "ht = []"
   ]
  },
  {
   "cell_type": "code",
   "execution_count": 13,
   "id": "08cc4fba-a49f-496f-89a8-8fd18e083dc9",
   "metadata": {},
   "outputs": [],
   "source": [
    "# Instantiate tfidf vectorizer parameters for grid search\n",
    "tvec_params = {\n",
    "    'tvec__max_features': [None],\n",
    "    'tvec__min_df':[3, 4, 5],\n",
    "    'tvec__max_df': [0.2, 0.3, 0.4],\n",
    "    #'tvec__stop_words': ['english'],\n",
    "    'tvec__ngram_range': [(1,1), (1,2)]\n",
    "}"
   ]
  },
  {
   "cell_type": "code",
   "execution_count": 14,
   "id": "360dce22-e739-4889-a85a-ca96c8c1c96c",
   "metadata": {},
   "outputs": [],
   "source": [
    "lr_params = {\n",
    "    'lr__solver':['newton-cg', 'lbfgs'],\n",
    "    'lr__C':[0.1, 1, 10]\n",
    "}\n",
    "\n",
    "nb_params = {\n",
    "    'nb__fit_prior': [True, False],\n",
    "    'nb__alpha': [1, 2]\n",
    "}\n",
    "\n",
    "knn_params = {\n",
    "    'knn__leaf_size':list(range(1,5)),\n",
    "    'knn__n_neighbors':list(range(1,20)), \n",
    "    'knn__p':[1, 2]\n",
    "}\n",
    "\n",
    "rf_params = {\n",
    "    'rf__n_estimators': [150, 300],\n",
    "    'rf__max_depth': [None, 1]\n",
    "}"
   ]
  },
  {
   "cell_type": "code",
   "execution_count": 19,
   "id": "6ff3b7e7-cec5-44c4-b490-a2fb90ca86a9",
   "metadata": {},
   "outputs": [
    {
     "name": "stdout",
     "output_type": "stream",
     "text": [
      "Fitting 5 folds for each of 108 candidates, totalling 540 fits\n",
      "### BEST PARAMS ###\n"
     ]
    },
    {
     "data": {
      "text/plain": [
       "{'lr__C': 10,\n",
       " 'lr__solver': 'newton-cg',\n",
       " 'tvec__max_df': 0.2,\n",
       " 'tvec__max_features': None,\n",
       " 'tvec__min_df': 3,\n",
       " 'tvec__ngram_range': (1, 2)}"
      ]
     },
     "metadata": {},
     "output_type": "display_data"
    },
    {
     "name": "stdout",
     "output_type": "stream",
     "text": [
      "### MODEL METRICS ###\n"
     ]
    },
    {
     "data": {
      "text/plain": [
       "{'model': 'lr',\n",
       " 'vectorizer': 'tvec',\n",
       " 'train': 0.9840756407066434,\n",
       " 'test': 0.9171641791044776,\n",
       " '% diff': 0.06691146160216588,\n",
       " 'computational time (s)': 235.36702609062195,\n",
       " 'roc': 0.9171635398043464,\n",
       " 'f_score': 0.917308169853489,\n",
       " 'accuracy': 0.9171641791044776}"
      ]
     },
     "metadata": {},
     "output_type": "display_data"
    },
    {
     "data": {
      "image/png": "[encoded data removed]",
      "text/plain": [
       "<Figure size 432x288 with 2 Axes>"
      ]
     },
     "metadata": {
      "needs_background": "light"
     },
     "output_type": "display_data"
    }
   ],
   "source": [
    "tvec_lr_gs = run_model('tvec', 'lr', X1_train, y1_train, X1_test,\n",
    "                       vec_params=tvec_params, mod_params=lr_params, grid_search=True)"
   ]
  },
  {
   "cell_type": "code",
   "execution_count": 23,
   "id": "98ad5eca-3185-49aa-8130-124add21e4dc",
   "metadata": {},
   "outputs": [
    {
     "name": "stdout",
     "output_type": "stream",
     "text": [
      "Fitting 5 folds for each of 72 candidates, totalling 360 fits\n",
      "### BEST PARAMS ###\n"
     ]
    },
    {
     "data": {
      "text/plain": [
       "{'rf__max_depth': None,\n",
       " 'rf__n_estimators': 300,\n",
       " 'tvec__max_df': 0.2,\n",
       " 'tvec__max_features': None,\n",
       " 'tvec__min_df': 3,\n",
       " 'tvec__ngram_range': (1, 2)}"
      ]
     },
     "metadata": {},
     "output_type": "display_data"
    },
    {
     "name": "stdout",
     "output_type": "stream",
     "text": [
      "### MODEL METRICS ###\n"
     ]
    },
    {
     "data": {
      "text/plain": [
       "{'model': 'rf',\n",
       " 'vectorizer': 'tvec',\n",
       " 'train': 0.9924110475242598,\n",
       " 'test': 0.9124378109452737,\n",
       " '% diff': 0.07997323657898614,\n",
       " 'computational time (s)': 1310.5624623298645,\n",
       " 'roc': 0.9124410070149273,\n",
       " 'f_score': 0.911911911911912,\n",
       " 'accuracy': 0.9124378109452737}"
      ]
     },
     "metadata": {},
     "output_type": "display_data"
    },
    {
     "data": {
      "image/png": "[encoded data removed]",
      "text/plain": [
       "<Figure size 432x288 with 2 Axes>"
      ]
     },
     "metadata": {
      "needs_background": "light"
     },
     "output_type": "display_data"
    }
   ],
   "source": [
    "tvec_rf_gs = run_model('tvec', 'rf', X1_train, y1_train, X1_test,\n",
    "                       vec_params=tvec_params, mod_params=rf_params, grid_search=True)"
   ]
  },
  {
   "cell_type": "code",
   "execution_count": 28,
   "id": "59c1257a-d9d4-4d57-8fa1-45695f37df1c",
   "metadata": {},
   "outputs": [
    {
     "name": "stdout",
     "output_type": "stream",
     "text": [
      "Fitting 5 folds for each of 72 candidates, totalling 360 fits\n",
      "### BEST PARAMS ###\n"
     ]
    },
    {
     "data": {
      "text/plain": [
       "{'nb__alpha': 1,\n",
       " 'nb__fit_prior': False,\n",
       " 'tvec__max_df': 0.2,\n",
       " 'tvec__max_features': None,\n",
       " 'tvec__min_df': 3,\n",
       " 'tvec__ngram_range': (1, 2)}"
      ]
     },
     "metadata": {},
     "output_type": "display_data"
    },
    {
     "name": "stdout",
     "output_type": "stream",
     "text": [
      "### MODEL METRICS ###\n"
     ]
    },
    {
     "data": {
      "text/plain": [
       "{'model': 'nb',\n",
       " 'vectorizer': 'tvec',\n",
       " 'train': 0.9541552625031102,\n",
       " 'test': 0.9206467661691542,\n",
       " '% diff': 0.03350849633395603,\n",
       " 'computational time (s)': 140.76673698425293,\n",
       " 'roc': 0.9206391972077911,\n",
       " 'f_score': 0.9218711731569924,\n",
       " 'accuracy': 0.9206467661691542}"
      ]
     },
     "metadata": {},
     "output_type": "display_data"
    },
    {
     "data": {
      "image/png": "[encoded data removed]",
      "text/plain": [
       "<Figure size 432x288 with 2 Axes>"
      ]
     },
     "metadata": {
      "needs_background": "light"
     },
     "output_type": "display_data"
    }
   ],
   "source": [
    "tvec_nb_gs = run_model('tvec', 'nb', X1_train, y1_train, X1_test,\n",
    "                       vec_params=tvec_params, mod_params=nb_params, grid_search=True)"
   ]
  },
  {
   "cell_type": "code",
   "execution_count": null,
   "id": "4aa139ab-94a0-483f-8c02-433cd49157a3",
   "metadata": {},
   "outputs": [],
   "source": [
    "#tvec_knn_gs = run_model('tvec', 'knn', X1_train, y1_train, X1_test,\n",
    "                       #vec_params=tvec_params, mod_params=knn_params, grid_search=True)"
   ]
  },
  {
   "cell_type": "markdown",
   "id": "e78e636d-5451-4fa4-beed-e82c2ef13b06",
   "metadata": {},
   "source": [
    "Due to the high number of fits (13680) from the knn model (candidates = 2736) and the low f-score (0.67) of knn model. A grid search is not conducted on the knn model as it would not likely to have a better score compared to the other models (logistic regression, random forest and naive bayes) evaluated."
   ]
  },
  {
   "cell_type": "code",
   "execution_count": 27,
   "id": "65b8c97e-3a44-4f0a-aac4-d2e81bf499e7",
   "metadata": {},
   "outputs": [
    {
     "data": {
      "text/html": [
       "<div>\n",
       "<style scoped>\n",
       "    .dataframe tbody tr th:only-of-type {\n",
       "        vertical-align: middle;\n",
       "    }\n",
       "\n",
       "    .dataframe tbody tr th {\n",
       "        vertical-align: top;\n",
       "    }\n",
       "\n",
       "    .dataframe thead th {\n",
       "        text-align: right;\n",
       "    }\n",
       "</style>\n",
       "<table border=\"1\" class=\"dataframe\">\n",
       "  <thead>\n",
       "    <tr style=\"text-align: right;\">\n",
       "      <th></th>\n",
       "      <th>model</th>\n",
       "      <th>vectorizer</th>\n",
       "      <th>train</th>\n",
       "      <th>test</th>\n",
       "      <th>% diff</th>\n",
       "      <th>computational time (s)</th>\n",
       "      <th>roc</th>\n",
       "      <th>f_score</th>\n",
       "      <th>accuracy</th>\n",
       "    </tr>\n",
       "  </thead>\n",
       "  <tbody>\n",
       "    <tr>\n",
       "      <th>1</th>\n",
       "      <td>nb</td>\n",
       "      <td>tvec</td>\n",
       "      <td>0.954155</td>\n",
       "      <td>0.920647</td>\n",
       "      <td>0.033508</td>\n",
       "      <td>171.847480</td>\n",
       "      <td>0.920639</td>\n",
       "      <td>0.921871</td>\n",
       "      <td>0.920647</td>\n",
       "    </tr>\n",
       "    <tr>\n",
       "      <th>2</th>\n",
       "      <td>lr</td>\n",
       "      <td>tvec</td>\n",
       "      <td>0.984076</td>\n",
       "      <td>0.917164</td>\n",
       "      <td>0.066911</td>\n",
       "      <td>261.895219</td>\n",
       "      <td>0.917164</td>\n",
       "      <td>0.917308</td>\n",
       "      <td>0.917164</td>\n",
       "    </tr>\n",
       "    <tr>\n",
       "      <th>3</th>\n",
       "      <td>rf</td>\n",
       "      <td>tvec</td>\n",
       "      <td>0.992411</td>\n",
       "      <td>0.912438</td>\n",
       "      <td>0.079973</td>\n",
       "      <td>1310.562462</td>\n",
       "      <td>0.912441</td>\n",
       "      <td>0.911912</td>\n",
       "      <td>0.912438</td>\n",
       "    </tr>\n",
       "  </tbody>\n",
       "</table>\n",
       "</div>"
      ],
      "text/plain": [
       "  model vectorizer     train      test    % diff  computational time (s)  \\\n",
       "1    nb       tvec  0.954155  0.920647  0.033508              171.847480   \n",
       "2    lr       tvec  0.984076  0.917164  0.066911              261.895219   \n",
       "3    rf       tvec  0.992411  0.912438  0.079973             1310.562462   \n",
       "\n",
       "        roc   f_score  accuracy  \n",
       "1  0.920639  0.921871  0.920647  \n",
       "2  0.917164  0.917308  0.917164  \n",
       "3  0.912441  0.911912  0.912438  "
      ]
     },
     "execution_count": 27,
     "metadata": {},
     "output_type": "execute_result"
    }
   ],
   "source": [
    "model_tuning_df = pd.DataFrame(ht)\n",
    "model_tuning_df.sort_values(by=['f_score', 'roc'], ascending=False).reset_index(drop=True)"
   ]
  },
  {
   "cell_type": "markdown",
   "id": "0df13859-81e2-4e66-963f-ba879d19867f",
   "metadata": {},
   "source": [
    "From the above table, all three models are not considered overfitted as the % difference between train and test is less than 5%. \n",
    "Both naive bayes and logistic regression has a similar computational times, f-score, accuracy, and roc.\n",
    "\n",
    "Despite the slightly higher score for the naive bayes, the logistic regression is selected as the production model due to the interpretebility of the output."
   ]
  },
  {
   "cell_type": "markdown",
   "id": "5df89699-8f36-4b1c-a5b4-29bb7b312bc9",
   "metadata": {
    "tags": []
   },
   "source": [
    "# Final Model Selection & Insights on Final Model"
   ]
  },
  {
   "cell_type": "code",
   "execution_count": 21,
   "id": "5b027ac4-2ed7-408e-b72c-d7bdb889db7f",
   "metadata": {},
   "outputs": [],
   "source": [
    "#Instantiate empty list\n",
    "top_coef = []"
   ]
  },
  {
   "cell_type": "code",
   "execution_count": 101,
   "id": "a03cb75b-1088-4b98-9246-4944190fdf3e",
   "metadata": {},
   "outputs": [],
   "source": [
    "def top_coef_model(best_param_model):\n",
    "    coefs = pd.DataFrame(best_param_model.best_estimator_.steps[1][1].coef_).T\n",
    "    coefs.columns = ['coef']\n",
    "    coefs['feature'] = best_param_model.best_estimator_.steps[0][1].get_feature_names()\n",
    "    coefs = coefs[['feature','coef']]\n",
    "    coefs = coefs.sort_values('coef', ascending=True)\n",
    "\n",
    "    top_dc_coefs = coefs.head(15).reset_index(drop=True)\n",
    "    top_marvel_coefs = coefs.tail(15).sort_values(by='coef', ascending=False).reset_index(drop=True)\n",
    "\n",
    "    fig, axs = plt.subplots(1, 2, figsize=(20,7))\n",
    "    axs[0].title.set_text('Top 15 Features Correlated with DC')\n",
    "    axs[1].title.set_text('Top 15 Feature Correlated Marvel')\n",
    "    # axs[0].yaxis.tick_right()\n",
    "    sns.barplot(data = top_dc_coefs, x = 'coef',y='feature',ax = axs[0])\n",
    "    sns.barplot(data = top_marvel_coefs, x = 'coef',y='feature',ax = axs[1])\n",
    "    plt.show();"
   ]
  },
  {
   "cell_type": "code",
   "execution_count": 27,
   "id": "7f291a92-f01d-409c-8fa9-857407777baa",
   "metadata": {},
   "outputs": [
    {
     "data": {
      "image/png": "[encoded data removed]",
      "text/plain": [
       "<Figure size 1440x504 with 2 Axes>"
      ]
     },
     "metadata": {
      "needs_background": "light"
     },
     "output_type": "display_data"
    }
   ],
   "source": [
    "top_coef_model(tvec_lr_gs)"
   ]
  },
  {
   "cell_type": "code",
   "execution_count": 135,
   "id": "02c02d79-b12e-4aeb-b5d5-3e1bd33b5918",
   "metadata": {},
   "outputs": [
    {
     "data": {
      "text/plain": [
       "<matplotlib.legend.Legend at 0x207173b3c10>"
      ]
     },
     "execution_count": 135,
     "metadata": {},
     "output_type": "execute_result"
    },
    {
     "data": {
      "image/png": "[encoded data removed]",
      "text/plain": [
       "<Figure size 864x720 with 1 Axes>"
      ]
     },
     "metadata": {},
     "output_type": "display_data"
    }
   ],
   "source": [
    "fig, ax = plt.subplots(1, 1, figsize=(12,10))\n",
    "plot_roc_curve(tvec_lr_gs, X_test, y_test, ax=ax, name='LogisticRegression(Production Model)', color='red')\n",
    "plot_roc_curve(tvec_nb_gs, X_test, y_test, ax=ax, name='MultinomialNB(Comparison Model)', color='lightgrey')\n",
    "plt.plot([0, 1], [0, 1], color='black', lw=2, linestyle='--', label='Random Guess(Baseline Model)')\n",
    "plt.legend()"
   ]
  },
  {
   "cell_type": "markdown",
   "id": "eb9e1f1b-e4cd-4a2d-95ea-caed086553e4",
   "metadata": {},
   "source": [
    "In this section, both the top feature columns from the logistic regression is plotted above and the impact. This top features also indicates that there these are the top characters from both marvel and dc_cinnematics subreddits allowing more insights from the market data.\n",
    "\n",
    "Since accuracy equates to the ROC, a plot of the 3 model is shown above. From this plot, there is negligible differences between the top two models. "
   ]
  },
  {
   "cell_type": "markdown",
   "id": "30842c37-d403-41ea-b45a-2790dd7f7230",
   "metadata": {},
   "source": [
    "# Sentiment Analysis"
   ]
  },
  {
   "cell_type": "markdown",
   "id": "5cebe707-c566-4bfa-a075-56719f41ede4",
   "metadata": {},
   "source": [
    "Prior to fitting the market data, a label sentiment dataset was created by labelling 150 posts from r/marvelstudios and r/DC_Cinnematic accordingly (NEU=neutral, POS=positive, NEG=negative). This labeled dataset is tested on the two classifier models and evaluated using the accuracy of the model."
   ]
  },
  {
   "cell_type": "code",
   "execution_count": 33,
   "id": "d658c880-5963-4fa6-8fdd-5d8fb6af82db",
   "metadata": {},
   "outputs": [
    {
     "data": {
      "application/vnd.jupyter.widget-view+json": {
       "model_id": "6508027b3df14894969626a1fcdc6e12",
       "version_major": 2,
       "version_minor": 0
      },
      "text/plain": [
       "Downloading:   0%|          | 0.00/747 [00:00<?, ?B/s]"
      ]
     },
     "metadata": {},
     "output_type": "display_data"
    },
    {
     "data": {
      "application/vnd.jupyter.widget-view+json": {
       "model_id": "57f5fd4abfaf44aaad1641eb552343e4",
       "version_major": 2,
       "version_minor": 0
      },
      "text/plain": [
       "Downloading:   0%|          | 0.00/476M [00:00<?, ?B/s]"
      ]
     },
     "metadata": {},
     "output_type": "display_data"
    },
    {
     "data": {
      "application/vnd.jupyter.widget-view+json": {
       "model_id": "e3af54571b43444ea4519cdd44b4a552",
       "version_major": 2,
       "version_minor": 0
      },
      "text/plain": [
       "Downloading:   0%|          | 0.00/878k [00:00<?, ?B/s]"
      ]
     },
     "metadata": {},
     "output_type": "display_data"
    },
    {
     "data": {
      "application/vnd.jupyter.widget-view+json": {
       "model_id": "16cd88d7300849c3944ca50d8d4ada26",
       "version_major": 2,
       "version_minor": 0
      },
      "text/plain": [
       "Downloading:   0%|          | 0.00/446k [00:00<?, ?B/s]"
      ]
     },
     "metadata": {},
     "output_type": "display_data"
    },
    {
     "data": {
      "application/vnd.jupyter.widget-view+json": {
       "model_id": "1e9825d8436f449695aaefe0e3c4b80d",
       "version_major": 2,
       "version_minor": 0
      },
      "text/plain": [
       "Downloading:   0%|          | 0.00/150 [00:00<?, ?B/s]"
      ]
     },
     "metadata": {},
     "output_type": "display_data"
    }
   ],
   "source": [
    "# Comparing both classifier models\n",
    "\n",
    "sent_classifier0 = pipeline(\"sentiment-analysis\", \n",
    "                            model=\"cardiffnlp/twitter-roberta-base-sentiment\",  \n",
    "                            max_length=512, \n",
    "                            truncation=True)\n",
    "\n",
    "sent_classifier = pipeline(\"sentiment-analysis\", \n",
    "                          model=\"finiteautomata/bertweet-base-sentiment-analysis\", \n",
    "                          truncation=True)"
   ]
  },
  {
   "cell_type": "code",
   "execution_count": 36,
   "id": "c5fd2e40-75a8-440b-9b49-9e3eb419730e",
   "metadata": {},
   "outputs": [],
   "source": [
    "# Load the human labelled dataset \n",
    "sentiment_test = pd.read_csv('./datasets/manual_sentiment_annotated_data - manual_sentiment_annotated_data.csv')"
   ]
  },
  {
   "cell_type": "code",
   "execution_count": 136,
   "id": "747f4897-5860-47b3-8204-a97b6534d18a",
   "metadata": {},
   "outputs": [
    {
     "data": {
      "application/vnd.jupyter.widget-view+json": {
       "model_id": "bce4a77ae0a04d3e87a62d72e4d939d4",
       "version_major": 2,
       "version_minor": 0
      },
      "text/plain": [
       "  0%|          | 0/300 [00:00<?, ?it/s]"
      ]
     },
     "metadata": {},
     "output_type": "display_data"
    },
    {
     "data": {
      "application/vnd.jupyter.widget-view+json": {
       "model_id": "f22a125a31864ddbb88d28b256d060a2",
       "version_major": 2,
       "version_minor": 0
      },
      "text/plain": [
       "  0%|          | 0/300 [00:00<?, ?it/s]"
      ]
     },
     "metadata": {},
     "output_type": "display_data"
    }
   ],
   "source": [
    "# Run both sentiment analysis models on the posts \n",
    "sentiment_test['model_output1'] = sentiment_test['post_demojized_only'].progress_apply(sent_classifier0)\n",
    "sentiment_test['model_output2'] = sentiment_test['post_demojized_only'].progress_apply(sent_classifier)\n",
    "\n",
    "# Put both models' predictions into a new column\n",
    "sentiment_test['model1_label']=[lst[0]['label'] for lst in sentiment_test['model_output1']]\n",
    "sentiment_test['model1_label']=sentiment_test['model1_label'].map({'LABEL_0':'NEG', 'LABEL_1':'NEU', 'LABEL_2':'POS'})\n",
    "sentiment_test['model2_label']=[lst[0]['label'] for lst in sentiment_test['model_output2']]"
   ]
  },
  {
   "cell_type": "code",
   "execution_count": 38,
   "id": "38e6dea8-57f7-4201-9357-0e9e21525dcb",
   "metadata": {},
   "outputs": [
    {
     "name": "stdout",
     "output_type": "stream",
     "text": [
      "model0 accuracy: 0.7566666666666667\n",
      "model accuracy: 0.7333333333333333\n"
     ]
    }
   ],
   "source": [
    "# Calculate each model's accuracy\n",
    "correct_pred_cnt0 = sum(sentiment_test['manual_sentiment']==sentiment_test['model1_label'])\n",
    "print(f\"model_1 accuracy: {correct_pred_cnt0/sentiment_test['manual_sentiment'].count()}\")\n",
    "\n",
    "correct_pred_cnt = sum(sentiment_test['manual_sentiment']==sentiment_test['model2_label'])\n",
    "print(f\"model_2 accuracy: {correct_pred_cnt/sentiment_test['manual_sentiment'].count()}\")"
   ]
  },
  {
   "cell_type": "markdown",
   "id": "08112f3b-03aa-4fb3-8f64-24499efe235e",
   "metadata": {},
   "source": [
    "Due to the higher score of the first model_1 **(\"cardiffnlp/twitter-roberta-base-sentiment\")**, this model is selected for the data for the sentiment analysis and it is fitted to the non-tokenized data."
   ]
  },
  {
   "cell_type": "markdown",
   "id": "9723142d-d7bd-4249-b396-76e23d1f4068",
   "metadata": {},
   "source": [
    "## Sentiment analysis on data and EDA on output"
   ]
  },
  {
   "cell_type": "code",
   "execution_count": 35,
   "id": "03dd26a8-cbb8-41cd-98c6-da35d1627299",
   "metadata": {},
   "outputs": [
    {
     "data": {
      "application/vnd.jupyter.widget-view+json": {
       "model_id": "e6f83f1ba3c84735849755e8432d5f7e",
       "version_major": 2,
       "version_minor": 0
      },
      "text/plain": [
       "  0%|          | 0/20096 [00:00<?, ?it/s]"
      ]
     },
     "metadata": {},
     "output_type": "display_data"
    }
   ],
   "source": [
    "tqdm_notebook.pandas()\n",
    "model_name = \"finiteautomata/bertweet-base-sentiment-analysis\"\n",
    "model = AutoModelForSequenceClassification.from_pretrained(model_name)\n",
    "tokenizer = AutoTokenizer.from_pretrained(model_name)\n",
    "\n",
    "classifier = pipeline(\"sentiment-analysis\",\n",
    "                      model= model, tokenizer=tokenizer,\n",
    "                     truncation=True)\n",
    "df['sentiment_analysis_output'] = df['post'].progress_apply(classifier)"
   ]
  },
  {
   "cell_type": "code",
   "execution_count": 81,
   "id": "47a18152-ed19-4fa6-ab3b-c0be19b604ed",
   "metadata": {},
   "outputs": [
    {
     "data": {
      "text/html": [
       "<div>\n",
       "<style scoped>\n",
       "    .dataframe tbody tr th:only-of-type {\n",
       "        vertical-align: middle;\n",
       "    }\n",
       "\n",
       "    .dataframe tbody tr th {\n",
       "        vertical-align: top;\n",
       "    }\n",
       "\n",
       "    .dataframe thead th {\n",
       "        text-align: right;\n",
       "    }\n",
       "</style>\n",
       "<table border=\"1\" class=\"dataframe\">\n",
       "  <thead>\n",
       "    <tr style=\"text-align: right;\">\n",
       "      <th></th>\n",
       "      <th>is_marvelstudios</th>\n",
       "      <th>post</th>\n",
       "      <th>post_clean_lemma</th>\n",
       "      <th>post_clean_stem</th>\n",
       "      <th>label</th>\n",
       "      <th>score</th>\n",
       "    </tr>\n",
       "  </thead>\n",
       "  <tbody>\n",
       "    <tr>\n",
       "      <th>0</th>\n",
       "      <td>1</td>\n",
       "      <td>Unpopular Opinion: Who cares that the MCU is l...</td>\n",
       "      <td>unpopular opinion care mcu labeled really not ...</td>\n",
       "      <td>unpopular opinion care mcu label realli not bi...</td>\n",
       "      <td>NEG</td>\n",
       "      <td>0.936026</td>\n",
       "    </tr>\n",
       "    <tr>\n",
       "      <th>1</th>\n",
       "      <td>1</td>\n",
       "      <td>What's your favorite MCU Content Youtube Chann...</td>\n",
       "      <td>favorite mcu content youtube channel breakdown...</td>\n",
       "      <td>favorit mcu content youtub channel breakdown e...</td>\n",
       "      <td>NEU</td>\n",
       "      <td>0.744970</td>\n",
       "    </tr>\n",
       "    <tr>\n",
       "      <th>2</th>\n",
       "      <td>1</td>\n",
       "      <td>I'd rather rewatch Thor 1 than Thor Ragnarok S...</td>\n",
       "      <td>rather rewatch thor thor ragnarok month ago wa...</td>\n",
       "      <td>rather rewatch thor thor ragnarok month ago wa...</td>\n",
       "      <td>NEG</td>\n",
       "      <td>0.959809</td>\n",
       "    </tr>\n",
       "    <tr>\n",
       "      <th>3</th>\n",
       "      <td>1</td>\n",
       "      <td>Venom is a Mimic Like, they both have the same...</td>\n",
       "      <td>venom mimic design alien kind disguise turn pe...</td>\n",
       "      <td>venom mimic design alien kind disguis turn peo...</td>\n",
       "      <td>NEU</td>\n",
       "      <td>0.557894</td>\n",
       "    </tr>\n",
       "    <tr>\n",
       "      <th>4</th>\n",
       "      <td>1</td>\n",
       "      <td>Who do you guys think would win gwenpool or mi...</td>\n",
       "      <td>guy win gwenpool mile morale battling mcu endg...</td>\n",
       "      <td>guy win gwenpool mile moral battl mcu endgam f...</td>\n",
       "      <td>NEU</td>\n",
       "      <td>0.962745</td>\n",
       "    </tr>\n",
       "  </tbody>\n",
       "</table>\n",
       "</div>"
      ],
      "text/plain": [
       "   is_marvelstudios                                               post  \\\n",
       "0                 1  Unpopular Opinion: Who cares that the MCU is l...   \n",
       "1                 1  What's your favorite MCU Content Youtube Chann...   \n",
       "2                 1  I'd rather rewatch Thor 1 than Thor Ragnarok S...   \n",
       "3                 1  Venom is a Mimic Like, they both have the same...   \n",
       "4                 1  Who do you guys think would win gwenpool or mi...   \n",
       "\n",
       "                                    post_clean_lemma  \\\n",
       "0  unpopular opinion care mcu labeled really not ...   \n",
       "1  favorite mcu content youtube channel breakdown...   \n",
       "2  rather rewatch thor thor ragnarok month ago wa...   \n",
       "3  venom mimic design alien kind disguise turn pe...   \n",
       "4  guy win gwenpool mile morale battling mcu endg...   \n",
       "\n",
       "                                     post_clean_stem label     score  \n",
       "0  unpopular opinion care mcu label realli not bi...   NEG  0.936026  \n",
       "1  favorit mcu content youtub channel breakdown e...   NEU  0.744970  \n",
       "2  rather rewatch thor thor ragnarok month ago wa...   NEG  0.959809  \n",
       "3  venom mimic design alien kind disguis turn peo...   NEU  0.557894  \n",
       "4  guy win gwenpool mile moral battl mcu endgam f...   NEU  0.962745  "
      ]
     },
     "execution_count": 81,
     "metadata": {},
     "output_type": "execute_result"
    }
   ],
   "source": [
    "df_c = df.copy()\n",
    "df_c['output'] = df_c['sentiment_analysis_output'].apply(pd.Series)\n",
    "df_c['output'].apply(pd.Series)\n",
    "output_df = pd.concat([df_c, df_c['output'].apply(pd.Series)], axis=1)\n",
    "sa_df = output_df.drop(columns=['sentiment_analysis_output', 'output'])\n",
    "sa_df.head()"
   ]
  },
  {
   "cell_type": "markdown",
   "id": "e7776d8b-6288-43c5-bdcd-661466acfe59",
   "metadata": {},
   "source": [
    "## EDA on output data"
   ]
  },
  {
   "cell_type": "code",
   "execution_count": 39,
   "id": "9b9f74b3-61bb-4fe1-b559-293c184376ed",
   "metadata": {},
   "outputs": [],
   "source": [
    "# Export output for sentiment analysis to csv (Saving Output) to comment out after saving\n",
    "#sa_df.to_csv('./datasets/sentiment_analysis.csv')\n",
    "\n",
    "# Import output for sentiment analysis to csv (Load Save Output)\n",
    "sa_df = pd.read_csv('./datasets/sentiment_analysis.csv')"
   ]
  },
  {
   "cell_type": "code",
   "execution_count": 47,
   "id": "2253d7ac-eb0d-4558-b0e1-f2fe728fd43d",
   "metadata": {},
   "outputs": [
    {
     "data": {
      "text/plain": [
       "label  is_marvelstudios\n",
       "NEG    1                   1583\n",
       "       0                   1484\n",
       "NEU    1                   6552\n",
       "       0                   6320\n",
       "POS    0                   2241\n",
       "       1                   1916\n",
       "Name: is_marvelstudios, dtype: int64"
      ]
     },
     "execution_count": 47,
     "metadata": {},
     "output_type": "execute_result"
    }
   ],
   "source": [
    "sentiment = sa_df.groupby(by='label')['is_marvelstudios'].value_counts()\n",
    "sentiment"
   ]
  },
  {
   "cell_type": "code",
   "execution_count": 82,
   "id": "43bef055-4a1f-4763-85ee-b1ac8738766a",
   "metadata": {},
   "outputs": [
    {
     "data": {
      "text/plain": [
       "<AxesSubplot:title={'center':'r/DC_Cinnematic sentiment analysis'}>"
      ]
     },
     "execution_count": 82,
     "metadata": {},
     "output_type": "execute_result"
    },
    {
     "data": {
      "image/png": "[encoded data removed]",
      "text/plain": [
       "<Figure size 864x432 with 2 Axes>"
      ]
     },
     "metadata": {},
     "output_type": "display_data"
    }
   ],
   "source": [
    "fig, ax = plt.subplots(1, 2, figsize=(12,6), sharey=True)\n",
    "ax = ax.ravel()\n",
    "sns.set_theme(style=\"whitegrid\")\n",
    "msst = sa_df[sa_df['is_marvelstudios']==1]['label'].value_counts()\n",
    "msst.plot(kind='bar', title='r/marvelstudios sentiment analysis', ax=ax[0])\n",
    "dcst = sa_df[sa_df['is_marvelstudios']==0]['label'].value_counts()\n",
    "dcst.plot(kind='bar', title='r/DC_Cinnematic sentiment analysis', ax=ax[1])"
   ]
  },
  {
   "cell_type": "markdown",
   "id": "8d82305b-be80-412f-a2b9-565c72c32cd4",
   "metadata": {},
   "source": [
    "A significant amount of the neutral comments is found in both dc_cinnematic and marvelstudio threads. This is congruent with the post as a significant number of post are discussion on plots in series."
   ]
  },
  {
   "cell_type": "code",
   "execution_count": 127,
   "id": "032fea7f-ff03-4cff-b99d-daf388b3e99d",
   "metadata": {},
   "outputs": [
    {
     "data": {
      "text/html": [
       "<div>\n",
       "<style scoped>\n",
       "    .dataframe tbody tr th:only-of-type {\n",
       "        vertical-align: middle;\n",
       "    }\n",
       "\n",
       "    .dataframe tbody tr th {\n",
       "        vertical-align: top;\n",
       "    }\n",
       "\n",
       "    .dataframe thead th {\n",
       "        text-align: right;\n",
       "    }\n",
       "</style>\n",
       "<table border=\"1\" class=\"dataframe\">\n",
       "  <thead>\n",
       "    <tr style=\"text-align: right;\">\n",
       "      <th></th>\n",
       "      <th>is_marvelstudios</th>\n",
       "      <th>post</th>\n",
       "      <th>post_clean_lemma</th>\n",
       "      <th>post_clean_stem</th>\n",
       "      <th>label</th>\n",
       "      <th>score</th>\n",
       "    </tr>\n",
       "  </thead>\n",
       "  <tbody>\n",
       "    <tr>\n",
       "      <th>6</th>\n",
       "      <td>1</td>\n",
       "      <td>I don't know about all of you, but I think Ant...</td>\n",
       "      <td>antony starr make fine johnny storm antony sta...</td>\n",
       "      <td>antoni starr make fine johnni storm antoni sta...</td>\n",
       "      <td>POS</td>\n",
       "      <td>0.956300</td>\n",
       "    </tr>\n",
       "    <tr>\n",
       "      <th>12</th>\n",
       "      <td>1</td>\n",
       "      <td>Hopefully we get these outfits for MCU X-Men H...</td>\n",
       "      <td>hopefully get outfit mcu x men hopefully get o...</td>\n",
       "      <td>hope get outfit mcu x men hope get outfit mcu ...</td>\n",
       "      <td>POS</td>\n",
       "      <td>0.916752</td>\n",
       "    </tr>\n",
       "    <tr>\n",
       "      <th>17</th>\n",
       "      <td>1</td>\n",
       "      <td>Do you think gwenpool could make an appearance...</td>\n",
       "      <td>gwenpool make appearance mcu cool she since sh...</td>\n",
       "      <td>gwenpool make appear mcu cool she sinc she kin...</td>\n",
       "      <td>POS</td>\n",
       "      <td>0.826691</td>\n",
       "    </tr>\n",
       "    <tr>\n",
       "      <th>21</th>\n",
       "      <td>1</td>\n",
       "      <td>I've only seen Spiderman. Ask me anything abou...</td>\n",
       "      <td>seen spiderman ask anything marvel seen spider...</td>\n",
       "      <td>seen spiderman ask anyth marvel seen spiderman...</td>\n",
       "      <td>POS</td>\n",
       "      <td>0.915689</td>\n",
       "    </tr>\n",
       "    <tr>\n",
       "      <th>22</th>\n",
       "      <td>1</td>\n",
       "      <td>I've only seen Spiderman. Ask me anything abou...</td>\n",
       "      <td>seen spiderman ask anything marvel seen spider...</td>\n",
       "      <td>seen spiderman ask anyth marvel seen spiderman...</td>\n",
       "      <td>POS</td>\n",
       "      <td>0.915689</td>\n",
       "    </tr>\n",
       "    <tr>\n",
       "      <th>...</th>\n",
       "      <td>...</td>\n",
       "      <td>...</td>\n",
       "      <td>...</td>\n",
       "      <td>...</td>\n",
       "      <td>...</td>\n",
       "      <td>...</td>\n",
       "    </tr>\n",
       "    <tr>\n",
       "      <th>20080</th>\n",
       "      <td>0</td>\n",
       "      <td>Idk why i laughed so hard at this Idk why i la...</td>\n",
       "      <td>idk laughed hard idk laughed hard</td>\n",
       "      <td>idk laugh hard idk laugh hard</td>\n",
       "      <td>POS</td>\n",
       "      <td>0.920317</td>\n",
       "    </tr>\n",
       "    <tr>\n",
       "      <th>20084</th>\n",
       "      <td>0</td>\n",
       "      <td>FAN-MADE: And the league looked up and said, \"...</td>\n",
       "      <td>fan made league looked said wow fan made leagu...</td>\n",
       "      <td>fan made leagu look said wow fan made leagu lo...</td>\n",
       "      <td>POS</td>\n",
       "      <td>0.618859</td>\n",
       "    </tr>\n",
       "    <tr>\n",
       "      <th>20085</th>\n",
       "      <td>0</td>\n",
       "      <td>DISCUSSION: The Future of DCEU 2022 and BEYOND...</td>\n",
       "      <td>discussion future dceu beyond hi amp x b gener...</td>\n",
       "      <td>discuss futur dceu beyond hi amp x b gener pos...</td>\n",
       "      <td>POS</td>\n",
       "      <td>0.932463</td>\n",
       "    </tr>\n",
       "    <tr>\n",
       "      <th>20092</th>\n",
       "      <td>0</td>\n",
       "      <td>Is the Watchmen show worth watching? I finishe...</td>\n",
       "      <td>watchman worth watching finished not long ago ...</td>\n",
       "      <td>watchmen worth watch finish not long ago love ...</td>\n",
       "      <td>POS</td>\n",
       "      <td>0.814507</td>\n",
       "    </tr>\n",
       "    <tr>\n",
       "      <th>20095</th>\n",
       "      <td>0</td>\n",
       "      <td>I love the meta verse presentation I love the ...</td>\n",
       "      <td>meta verse presentation meta verse presentation</td>\n",
       "      <td>meta vers present meta vers present</td>\n",
       "      <td>POS</td>\n",
       "      <td>0.991297</td>\n",
       "    </tr>\n",
       "  </tbody>\n",
       "</table>\n",
       "<p>4157 rows × 6 columns</p>\n",
       "</div>"
      ],
      "text/plain": [
       "       is_marvelstudios                                               post  \\\n",
       "6                     1  I don't know about all of you, but I think Ant...   \n",
       "12                    1  Hopefully we get these outfits for MCU X-Men H...   \n",
       "17                    1  Do you think gwenpool could make an appearance...   \n",
       "21                    1  I've only seen Spiderman. Ask me anything abou...   \n",
       "22                    1  I've only seen Spiderman. Ask me anything abou...   \n",
       "...                 ...                                                ...   \n",
       "20080                 0  Idk why i laughed so hard at this Idk why i la...   \n",
       "20084                 0  FAN-MADE: And the league looked up and said, \"...   \n",
       "20085                 0  DISCUSSION: The Future of DCEU 2022 and BEYOND...   \n",
       "20092                 0  Is the Watchmen show worth watching? I finishe...   \n",
       "20095                 0  I love the meta verse presentation I love the ...   \n",
       "\n",
       "                                        post_clean_lemma  \\\n",
       "6      antony starr make fine johnny storm antony sta...   \n",
       "12     hopefully get outfit mcu x men hopefully get o...   \n",
       "17     gwenpool make appearance mcu cool she since sh...   \n",
       "21     seen spiderman ask anything marvel seen spider...   \n",
       "22     seen spiderman ask anything marvel seen spider...   \n",
       "...                                                  ...   \n",
       "20080                  idk laughed hard idk laughed hard   \n",
       "20084  fan made league looked said wow fan made leagu...   \n",
       "20085  discussion future dceu beyond hi amp x b gener...   \n",
       "20092  watchman worth watching finished not long ago ...   \n",
       "20095    meta verse presentation meta verse presentation   \n",
       "\n",
       "                                         post_clean_stem label     score  \n",
       "6      antoni starr make fine johnni storm antoni sta...   POS  0.956300  \n",
       "12     hope get outfit mcu x men hope get outfit mcu ...   POS  0.916752  \n",
       "17     gwenpool make appear mcu cool she sinc she kin...   POS  0.826691  \n",
       "21     seen spiderman ask anyth marvel seen spiderman...   POS  0.915689  \n",
       "22     seen spiderman ask anyth marvel seen spiderman...   POS  0.915689  \n",
       "...                                                  ...   ...       ...  \n",
       "20080                      idk laugh hard idk laugh hard   POS  0.920317  \n",
       "20084  fan made leagu look said wow fan made leagu lo...   POS  0.618859  \n",
       "20085  discuss futur dceu beyond hi amp x b gener pos...   POS  0.932463  \n",
       "20092  watchmen worth watch finish not long ago love ...   POS  0.814507  \n",
       "20095                meta vers present meta vers present   POS  0.991297  \n",
       "\n",
       "[4157 rows x 6 columns]"
      ]
     },
     "execution_count": 127,
     "metadata": {},
     "output_type": "execute_result"
    }
   ],
   "source": [
    "positive = sa_df[sa_df['label']=='POS']\n",
    "positive.reset_index()\n",
    "positive.drop(columns='Unnamed: 0')"
   ]
  },
  {
   "cell_type": "markdown",
   "id": "069ef422-9b92-4b56-b5ea-04ea30f2df1a",
   "metadata": {
    "tags": []
   },
   "source": [
    "## Conclusion and Recommendations"
   ]
  },
  {
   "cell_type": "markdown",
   "id": "a8df44a0-4423-4484-94cd-0ee223cf8717",
   "metadata": {},
   "source": [
    "In conclusion the production model is able to successfully classify Reddit posts as Marvel/DC content and possible future applications includes:\n",
    "1. Classify text data from other non-Reddit sources \n",
    "2. Can be used to to determine popularity/public interest in each brand \n",
    "3. Other downstream analysis e.g. sentiment analysis \n",
    "\n",
    "Key findings from sentiment analysis: \n",
    "1. Characters to develop toys and marketing initiatives for  \n",
    "2. Key characters to avoid"
   ]
  }
 ],
 "metadata": {
  "kernelspec": {
   "display_name": "Python 3 (ipykernel)",
   "language": "python",
   "name": "python3"
  },
  "language_info": {
   "codemirror_mode": {
    "name": "ipython",
    "version": 3
   },
   "file_extension": ".py",
   "mimetype": "text/x-python",
   "name": "python",
   "nbconvert_exporter": "python",
   "pygments_lexer": "ipython3",
   "version": "3.8.13"
  },
  "toc-autonumbering": false,
  "toc-showmarkdowntxt": false
 },
 "nbformat": 4,
 "nbformat_minor": 5
}
